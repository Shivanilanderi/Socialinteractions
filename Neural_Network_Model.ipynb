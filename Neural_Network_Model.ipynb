{
 "cells": [
  {
   "cell_type": "code",
   "execution_count": 1,
   "metadata": {
    "collapsed": false
   },
   "outputs": [
    {
     "name": "stderr",
     "output_type": "stream",
     "text": [
      "Using TensorFlow backend.\n"
     ]
    }
   ],
   "source": [
    "import keras"
   ]
  },
  {
   "cell_type": "code",
   "execution_count": 2,
   "metadata": {
    "collapsed": false
   },
   "outputs": [],
   "source": [
    "import numpy as np\n",
    "import matplotlib\n",
    "import matplotlib.pyplot as plt\n",
    "import pandas as pd\n",
    "%matplotlib inline"
   ]
  },
  {
   "cell_type": "code",
   "execution_count": 3,
   "metadata": {
    "collapsed": false
   },
   "outputs": [],
   "source": [
    "dataset = pd.read_csv(\"Speed_Dating_Data.csv\", encoding=\"ISO-8859-1\")\n",
    "iid_group = dataset.groupby(by=[\"iid\"])\n",
    "\n",
    "# The question 'How do you think others perceive you?' is not answered for all the dataset\n",
    "data_wth_perception = []\n",
    "data_wthout_perception = []\n",
    "\n",
    "ftr_list_1 = ['attr2_1', 'sinc2_1', 'intel2_1', 'fun2_1', 'amb2_1', 'shar2_1']\n",
    "ftr_list_2 = ['attr3_1', 'sinc3_1', 'intel3_1', 'fun3_1', 'amb3_1']\n",
    "percep_ftr_list = ['attr5_1', 'sinc5_1', 'intel5_1', 'fun5_1', 'amb5_1']\n",
    "result_ftr_list = ['you_call', 'them_cal']"
   ]
  },
  {
   "cell_type": "code",
   "execution_count": 4,
   "metadata": {
    "collapsed": true
   },
   "outputs": [],
   "source": [
    "attribute_list_1 = ['attr5_2', 'sinc5_2', 'intel5_2', 'fun5_2', 'amb5_2']\n",
    "attribute_list_2 = ['attr3_2', 'sinc3_2', 'intel3_2', 'fun3_2', 'amb3_2']\n",
    "X = []\n",
    "Y = []\n",
    "\n",
    "for subject in iid_group:\n",
    "    if np.isnan(subject[1]['attr5_2'].iat[0]) or\\\n",
    "        np.isnan(subject[1]['attr3_2'].iat[0]) or\\\n",
    "        np.isnan(subject[1]['them_cal'].iat[0]):\n",
    "        continue\n",
    "    \n",
    "    x_to_insert = []\n",
    "    \n",
    "    for i in range(len(attribute_list_1)):\n",
    "        x_to_insert.append(subject[1][attribute_list_1[i]].iat[0])\n",
    "        x_to_insert.append(subject[1][attribute_list_2[i]].iat[0])\n",
    "    \n",
    "    X.append(x_to_insert)\n",
    "    \n",
    "    if subject[1]['them_cal'].iat[0] == 0:\n",
    "        Y.append(0)\n",
    "    else:\n",
    "        Y.append(1)\n",
    "\n",
    "X = np.array(X)\n",
    "Y = np.transpose(np.array([Y]))"
   ]
  },
  {
   "cell_type": "code",
   "execution_count": 5,
   "metadata": {
    "collapsed": false
   },
   "outputs": [
    {
     "name": "stdout",
     "output_type": "stream",
     "text": [
      "\n",
      " X shape:  (121, 10) \n",
      " Y shape:  (121, 1) \n",
      " X tr shape:  (84, 10) \n",
      " X te shape:  (37, 10) \n",
      " Y tr shape:  (84, 1) \n",
      " Y te shape:  (37, 1)\n"
     ]
    }
   ],
   "source": [
    "div_bound = int(X.shape[0] * 0.7)\n",
    "X_tr = X[:div_bound, :]\n",
    "Y_tr = Y[:div_bound, :]\n",
    "X_te = X[div_bound:, :]\n",
    "Y_te = Y[div_bound:, :]\n",
    "X_to_use = X\n",
    "Y_to_use = Y\n",
    "\n",
    "\n",
    "print(\"\\n X shape: \", X.shape,\\\n",
    "      \"\\n Y shape: \", Y.shape,\\\n",
    "      \"\\n X tr shape: \", X_tr.shape,\\\n",
    "      \"\\n X te shape: \", X_te.shape,\\\n",
    "      \"\\n Y tr shape: \", Y_tr.shape,\\\n",
    "      \"\\n Y te shape: \", Y_te.shape)"
   ]
  },
  {
   "cell_type": "code",
   "execution_count": 6,
   "metadata": {
    "collapsed": true
   },
   "outputs": [],
   "source": [
    "from keras.models import Model, Sequential\n",
    "from keras.layers import Dense, Activation, Dropout\n",
    "from keras import optimizers\n",
    "from keras.regularizers import L1L2"
   ]
  },
  {
   "cell_type": "code",
   "execution_count": 7,
   "metadata": {
    "collapsed": false
   },
   "outputs": [],
   "source": [
    "import keras.backend as K\n",
    "K.clear_session()\n",
    "\n",
    "seed = 9\n",
    "np.random.seed(seed)"
   ]
  },
  {
   "cell_type": "code",
   "execution_count": 8,
   "metadata": {
    "collapsed": true
   },
   "outputs": [],
   "source": [
    "from keras import optimizers\n",
    "class LossHistory(keras.callbacks.Callback):\n",
    "    def on_train_begin(self, logs={}):\n",
    "        self.lost = np.array([])\n",
    "        self.val_acc = np.array([])\n",
    " \n",
    "    def on_batch_end(self, batch, logs={}):\n",
    "        self.lost = np.append(self.lost, logs.get('loss'))\n",
    "        \n",
    "        \n",
    "    def on_epoch_end(self, epoch, logs):\n",
    "        self.val_acc = np.append(self.val_acc, logs.get('val_acc'))"
   ]
  },
  {
   "cell_type": "code",
   "execution_count": 9,
   "metadata": {
    "collapsed": false,
    "scrolled": true
   },
   "outputs": [],
   "source": [
    "\n",
    "\n",
    "# ===========\n",
    "# Train Neural Network Model\n",
    "#\n",
    "# Output: [model, loss_history]\n",
    "#\n",
    "# ===========\n",
    "\n",
    "def Speeddate_Train(X_tr, Y_tr, X_te, Y_te, act='sigmoid', hidden_n = 0, opt='Adam',\\\n",
    "                    dropout_r=0, lam_l1=0, lam_l2=0, epo=20, bat=1):\n",
    "    history_cb = LossHistory()\n",
    "    K.clear_session()\n",
    "    \n",
    "    model = Sequential()\n",
    "    model.add(Dense(X_tr.shape[1], input_shape=(X_tr.shape[1],), activation=act,\\\n",
    "                    kernel_regularizer = L1L2(lam_l1, lam_l2), name='hidden'))\n",
    "    model.add(Dropout(dropout_r))\n",
    "    \n",
    "    # Insert hidden layers\n",
    "    for i in range(hidden_n):\n",
    "        model.add(Dense(X_tr.shape[1], input_shape=(X_tr.shape[1],), activation=act,\\\n",
    "                        kernel_regularizer = L1L2(lam_l1, lam_l2), name='hidden' + str(i)))\n",
    "        model.add(Dropout(dropout_r))\n",
    "    \n",
    "    model.add(Dense(Y_tr.shape[1], activation='softmax', kernel_regularizer = L1L2(lam_l1, lam_l2), name='output'))\n",
    "    \n",
    "    model.compile(optimizer=opt,\n",
    "                  loss='binary_crossentropy',\n",
    "                  metrics=['accuracy'])\n",
    "    model.fit(X_tr, Y_tr, epochs=epo, batch_size=bat, validation_data=(X_te, Y_te),\n",
    "         callbacks=[history_cb], verbose=0)\n",
    "    \n",
    "    return [model, history_cb]\n",
    "\n",
    "def plot_loss_acc(history_cb, X_tr, bat=1):\n",
    "    plt.plot(range(len(history_cb.val_acc)), history_cb.val_acc, 'c-')#np.log(alphas), ridge_errors, 'co')\n",
    "    plt.xlabel('Epoch')\n",
    "    plt.ylabel('val_acc')\n",
    "    plt.show()\n",
    "\n",
    "    plt.semilogy(np.array(range(len(history_cb.lost)))* bat / X_tr.shape[0],\n",
    "                 history_cb.lost, 'c-')\n",
    "    plt.xlabel('batch')\n",
    "    plt.ylabel('Loss values')\n",
    "    plt.show()   "
   ]
  },
  {
   "cell_type": "code",
   "execution_count": 10,
   "metadata": {
    "collapsed": true
   },
   "outputs": [],
   "source": [
    "from sklearn.model_selection import KFold\n",
    "\n",
    "def Speeddate_Train_K(X, Y, act='sigmoid', hidden_n = 0, opt='Adam',\\\n",
    "                    dropout_r=0, lam_l1=0, lam_l2=0, epo=20, bat=1, k=7, seed=9):\n",
    "\n",
    "    kfold = KFold(n_splits = k, shuffle=True, random_state = seed)\n",
    "    cvscores = []\n",
    "    for train,test in kfold.split(X, Y):\n",
    "        [model ,history_cb] = Speeddate_Train(X[train], Y[train], X[train], Y[train],\\\n",
    "                                              hidden_n = hidden_n, opt=opt,\\\n",
    "                                            lam_l1=lam_l1, lam_l2=lam_l2, dropout_r = dropout_r,\\\n",
    "                                              epo=epo, bat=bat)\n",
    "\n",
    "        scores = model.evaluate(X[test], Y[test], verbose=0)\n",
    "        print(\"%s: %.2f%%\" % (model.metrics_names[1], scores[1]*100))\n",
    "        cvscores.append(scores[1]*100)\n",
    "\n",
    "    print(\"%.2f%% (+/- %.2f%%)\" % (np.mean(cvscores), np.std(cvscores)))\n",
    "    return [np.mean(cvscores), np.std(cvscores)]"
   ]
  },
  {
   "cell_type": "code",
   "execution_count": null,
   "metadata": {
    "collapsed": false,
    "scrolled": true
   },
   "outputs": [
    {
     "data": {
      "image/png": "[encoded data removed]",
      "text/plain": [
       "<matplotlib.figure.Figure at 0x25d106c96d8>"
      ]
     },
     "metadata": {},
     "output_type": "display_data"
    },
    {
     "data": {
      "image/png": "[encoded data removed]",
      "text/plain": [
       "<matplotlib.figure.Figure at 0x25d0ed01908>"
      ]
     },
     "metadata": {},
     "output_type": "display_data"
    },
    {
     "name": "stdout",
     "output_type": "stream",
     "text": [
      "acc: 55.56%\n",
      "acc: 38.89%\n"
     ]
    }
   ],
   "source": [
    "#=======================\n",
    "#   Start Training\n",
    "#=======================\n",
    "\n",
    "activation_set = ['sigmoid', 'tanh', 'relu']\n",
    "hidden_n_set = [0, 5, 10]\n",
    "opt_set = ['SGD', 'Adam', 'Nadam']\n",
    "dropout_set = [0, 0.2, 0.5]\n",
    "lam_l1_set = [0, 0.001, 0.1]\n",
    "lam_l2_set = [0, 0.001, 0.1]\n",
    "\n",
    "l1 = 0\n",
    "l2 = 0\n",
    "d_r = 0\n",
    "o = 'Adam'\n",
    "a = 'sigmoid'\n",
    "n = 0\n",
    "\n",
    "seed = 999\n",
    "np.random.seed(seed)\n",
    "\n",
    "[model ,history_cb] = Speeddate_Train(X_tr, Y_tr, X_te, Y_te, hidden_n = n, opt=o,\\\n",
    "                                    act = a, lam_l1=l1, lam_l2=l2, dropout_r = d_r, epo=20, bat=1)\n",
    "\n",
    "plot_loss_acc(history_cb, X_tr)\n",
    "\n",
    "[score, std] = Speeddate_Train_K(X_to_use, Y_to_use, \\\n",
    "                            act=a, hidden_n=n, opt=o,\\\n",
    "                            dropout_r=d_r, lam_l1=l1, lam_l2=l1, epo=20, bat=5, k=7, seed=seed)"
   ]
  },
  {
   "cell_type": "code",
   "execution_count": null,
   "metadata": {
    "collapsed": false,
    "scrolled": true
   },
   "outputs": [],
   "source": []
  },
  {
   "cell_type": "raw",
   "metadata": {
    "collapsed": true
   },
   "source": []
  }
 ],
 "metadata": {
  "anaconda-cloud": {},
  "kernelspec": {
   "display_name": "Python 3",
   "language": "python",
   "name": "python3"
  },
  "language_info": {
   "codemirror_mode": {
    "name": "ipython",
    "version": 3
   },
   "file_extension": ".py",
   "mimetype": "text/x-python",
   "name": "python",
   "nbconvert_exporter": "python",
   "pygments_lexer": "ipython3",
   "version": "3.6.0"
  }
 },
 "nbformat": 4,
 "nbformat_minor": 1
}
