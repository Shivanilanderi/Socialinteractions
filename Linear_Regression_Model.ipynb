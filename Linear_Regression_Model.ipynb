{
 "cells": [
  {
   "cell_type": "code",
   "execution_count": 1,
   "metadata": {},
   "outputs": [],
   "source": [
    "import numpy as np\n",
    "import matplotlib\n",
    "import matplotlib.pyplot as plt\n",
    "import pandas as pd\n",
    "%matplotlib inline"
   ]
  },
  {
   "cell_type": "code",
   "execution_count": 2,
   "metadata": {},
   "outputs": [],
   "source": [
    "dataset = pd.read_csv(\"Speed_Dating_Data.csv\", encoding=\"ISO-8859-1\")\n",
    "iid_group = dataset.groupby(by=[\"iid\"])\n",
    "gender_group = dataset.groupby(by=[\"gender\"])"
   ]
  },
  {
   "cell_type": "code",
   "execution_count": 3,
   "metadata": {},
   "outputs": [],
   "source": [
    "# Attribute list for 'How do you think others perceive you'\n",
    "atr_list_1 = ['attr5_2', 'sinc5_2', 'intel5_2', 'fun5_2', 'amb5_2']\n",
    "# Attribute list for 'How do you think you measure up'\n",
    "atr_list_2 = ['attr3_2', 'sinc3_2', 'intel3_2', 'fun3_2', 'amb3_2']\n",
    "# Attribute list for 'What do you look for in the opposite sex'\n",
    "atr_list_3 = ['attr7_2','sinc7_2','intel7_2','fun7_2','amb7_2']"
   ]
  },
  {
   "cell_type": "code",
   "execution_count": 4,
   "metadata": {},
   "outputs": [
    {
     "name": "stdout",
     "output_type": "stream",
     "text": [
      "[0.27984127 0.15129032 0.15920635 0.1784127  0.08274194]\n",
      "[0.35714286 0.12903226 0.1568254  0.18984127 0.06370968]\n"
     ]
    }
   ],
   "source": [
    "# Separates data into male and female groupings\n",
    "f_group = gender_group.get_group(0)\n",
    "female_group = f_group.groupby(by=[\"iid\"])\n",
    "m_group = gender_group.get_group(1)\n",
    "male_group = m_group.groupby(by=['iid'])\n",
    "\n",
    "# Female standard within sample size of males in the five attributes\n",
    "f_standard = np.zeros(len(atr_list_3))\n",
    "f_total = np.zeros(len(atr_list_3))\n",
    "# Male standard within sample size of females in the five attributes\n",
    "m_standard = np.zeros(len(atr_list_3))\n",
    "m_total = np.zeros(len(atr_list_3))\n",
    "\n",
    "# Get female standard\n",
    "for subject in female_group:\n",
    "    \n",
    "    for i in range(len(atr_list_3)):\n",
    "        if np.isnan(subject[1][atr_list_3[i]].iat[0]):\n",
    "            continue\n",
    "        f_standard[i] += subject[1][atr_list_3[i]].iat[0]\n",
    "        f_total[i] += 1\n",
    "    \n",
    "for i in range(f_standard.shape[0]):\n",
    "    f_standard[i] = f_standard[i]/f_total[i]/100\n",
    "    \n",
    "# Get male standard\n",
    "for subject in male_group:\n",
    "        \n",
    "    for i in range(len(atr_list_3)):\n",
    "        if np.isnan(subject[1][atr_list_3[i]].iat[0]):\n",
    "            continue\n",
    "        m_standard[i] += subject[1][atr_list_3[i]].iat[0]\n",
    "        m_total[i] += 1\n",
    "    \n",
    "for i in range(m_standard.shape[0]):\n",
    "    m_standard[i] = m_standard[i]/m_total[i]/100\n",
    "    \n",
    "print(f_standard)\n",
    "print(m_standard)"
   ]
  },
  {
   "cell_type": "code",
   "execution_count": 5,
   "metadata": {},
   "outputs": [],
   "source": [
    "# Arrays for input and output variables\n",
    "X_without_weight = []\n",
    "X_with_weight = []\n",
    "Y = []"
   ]
  },
  {
   "cell_type": "code",
   "execution_count": 6,
   "metadata": {},
   "outputs": [],
   "source": [
    "# Insert data into input and output var arrays\n",
    "for subject in iid_group:\n",
    "    if np.isnan(subject[1]['attr5_2'].iat[0]) or\\\n",
    "        np.isnan(subject[1]['attr3_2'].iat[0]) or\\\n",
    "        np.isnan(subject[1]['them_cal'].iat[0]):\n",
    "        continue\n",
    "        \n",
    "    x_without_to_insert = []\n",
    "    x_with_to_insert = []\n",
    "    \n",
    "    for i in range(len(atr_list_1)):\n",
    "        x_without_to_insert.append(subject[1][atr_list_1[i]].iat[0])\n",
    "        x_without_to_insert.append(subject[1][atr_list_2[i]].iat[0])\n",
    "        x_with_to_insert.append(subject[1][atr_list_1[i]].iat[0])\n",
    "        x_with_to_insert.append(subject[1][atr_list_2[i]].iat[0])\n",
    "        \n",
    "    for i in range(len(atr_list_1)):\n",
    "        if subject[1]['gender'].iat[0] == 0:\n",
    "            x_with_to_insert[i] * f_standard[i]\n",
    "            x_with_to_insert[i+5] * f_standard[i]\n",
    "        elif subject[1]['gender'].iat[0] == 1:\n",
    "            x_with_to_insert[i] * m_standard[i]\n",
    "            x_with_to_insert[i+5] * m_standard[i]\n",
    "            \n",
    "    X_without_weight.append(x_without_to_insert)\n",
    "    X_with_weight.append(x_with_to_insert)\n",
    "    \n",
    "    if subject[1]['them_cal'].iat[0] == 0:\n",
    "        Y.append(0)\n",
    "    else:\n",
    "        Y.append(1)\n",
    "        \n",
    "X_without_weight = np.array(X_without_weight)\n",
    "X_with_weight = np.array(X_with_weight)\n",
    "Y = np.array(Y)"
   ]
  },
  {
   "cell_type": "code",
   "execution_count": 7,
   "metadata": {},
   "outputs": [],
   "source": [
    "from sklearn import linear_model, preprocessing\n",
    "from sklearn.model_selection import train_test_split\n",
    "from sklearn.preprocessing import PolynomialFeatures"
   ]
  },
  {
   "cell_type": "code",
   "execution_count": 8,
   "metadata": {},
   "outputs": [],
   "source": [
    "# Split data\n",
    "X_withoutSTD_train, X_withoutSTD_test, Y_withoutSTD_train\\\n",
    "    , Y_withoutSTD_test = train_test_split(X_without_weight, Y, random_state = 0)\n",
    "X_withSTD_train, X_withSTD_test, Y_withSTD_train, Y_withSTD_test\\\n",
    "    = train_test_split(X_with_weight, Y, random_state = 0)"
   ]
  },
  {
   "cell_type": "code",
   "execution_count": 9,
   "metadata": {},
   "outputs": [],
   "source": [
    "# Logistic regression with L1 Lasso\n",
    "def logreg_model(c , X_train, Y_train, X_test, Y_test, acc_train_logreg, acc_test_logreg, c_logreg):\n",
    "    \n",
    "    logreg = linear_model.LogisticRegression(C=c,penalty='l1', warm_start=True, solver='saga')\n",
    "    \n",
    "    logreg.fit(X_train, Y_train)\n",
    "    \n",
    "    Yhat_train = logreg.predict(X_train)\n",
    "    acc_train = np.mean(Yhat_train == Y_train)\n",
    "    acc_train_logreg.append(acc_train)\n",
    "    print(\"C = %f\" % c)\n",
    "    print(\"Accuracy on training data = %f\" % acc_train)\n",
    "    \n",
    "    Yhat_test = logreg.predict(X_test)\n",
    "    acc_test = np.mean(Yhat_test == Y_test)\n",
    "    acc_test_logreg.append(acc_test)\n",
    "    print(\"Accuracy on test data = %f\" % acc_test)\n",
    "    print()\n",
    "    \n",
    "    c_logreg.append(c)"
   ]
  },
  {
   "cell_type": "code",
   "execution_count": 10,
   "metadata": {},
   "outputs": [
    {
     "name": "stdout",
     "output_type": "stream",
     "text": [
      "X without weight:\n",
      "C = 0.000100\n",
      "Accuracy on training data = 0.455556\n",
      "Accuracy on test data = 0.483871\n",
      "\n",
      "C = 0.001000\n",
      "Accuracy on training data = 0.544444\n",
      "Accuracy on test data = 0.516129\n",
      "\n",
      "C = 0.010000\n",
      "Accuracy on training data = 0.544444\n",
      "Accuracy on test data = 0.516129\n",
      "\n",
      "C = 0.100000\n",
      "Accuracy on training data = 0.544444\n",
      "Accuracy on test data = 0.516129\n",
      "\n",
      "C = 1.000000\n",
      "Accuracy on training data = 0.633333\n",
      "Accuracy on test data = 0.612903\n",
      "\n",
      "C = 10.000000\n",
      "Accuracy on training data = 0.611111\n",
      "Accuracy on test data = 0.580645\n",
      "\n",
      "C = 100.000000\n",
      "Accuracy on training data = 0.611111\n",
      "Accuracy on test data = 0.580645\n",
      "\n",
      "X with weight:\n",
      "C = 0.000100\n",
      "Accuracy on training data = 0.455556\n",
      "Accuracy on test data = 0.483871\n",
      "\n",
      "C = 0.001000\n",
      "Accuracy on training data = 0.544444\n",
      "Accuracy on test data = 0.516129\n",
      "\n",
      "C = 0.010000\n",
      "Accuracy on training data = 0.544444\n",
      "Accuracy on test data = 0.516129\n",
      "\n",
      "C = 0.100000\n",
      "Accuracy on training data = 0.544444\n",
      "Accuracy on test data = 0.516129\n",
      "\n",
      "C = 1.000000\n",
      "Accuracy on training data = 0.633333\n",
      "Accuracy on test data = 0.612903\n",
      "\n",
      "C = 10.000000\n",
      "Accuracy on training data = 0.611111\n",
      "Accuracy on test data = 0.580645\n",
      "\n",
      "C = 100.000000\n",
      "Accuracy on training data = 0.611111\n",
      "Accuracy on test data = 0.580645\n",
      "\n"
     ]
    },
    {
     "name": "stderr",
     "output_type": "stream",
     "text": [
      "C:\\Users\\marci\\Anaconda3\\lib\\site-packages\\sklearn\\linear_model\\sag.py:326: ConvergenceWarning: The max_iter was reached which means the coef_ did not converge\n",
      "  \"the coef_ did not converge\", ConvergenceWarning)\n"
     ]
    },
    {
     "data": {
      "text/plain": [
       "<matplotlib.legend.Legend at 0x2100948ca20>"
      ]
     },
     "execution_count": 10,
     "metadata": {},
     "output_type": "execute_result"
    },
    {
     "data": {
      "image/png": "[encoded data removed]",
      "text/plain": [
       "<Figure size 432x288 with 1 Axes>"
      ]
     },
     "metadata": {},
     "output_type": "display_data"
    }
   ],
   "source": [
    "# Call Logistic Regression with L1 Lasso with different c param\n",
    "c = [0.0001, 0.001, 0.01, 0.1, 1, 10, 100]\n",
    "\n",
    "acc_train_logreg = []\n",
    "acc_test_logreg = []\n",
    "c_logreg = []\n",
    "\n",
    "# X without weight\n",
    "print('X without weight:')\n",
    "for i in range(len(c)):\n",
    "    logreg_model(c[i], X_withoutSTD_train, Y_withoutSTD_train, X_withoutSTD_test, Y_withoutSTD_test, acc_train_logreg, acc_test_logreg, c_logreg)\n",
    "\n",
    "acc_train_logreg2 = []\n",
    "acc_test_logreg2 = []\n",
    "c_logreg2 = []\n",
    "\n",
    "# X with weight\n",
    "print('X with weight:')\n",
    "for i in range(len(c)):\n",
    "    logreg_model(c[i], X_withSTD_train, Y_withSTD_train, X_withSTD_test, Y_withSTD_test, acc_train_logreg2, acc_test_logreg2, c_logreg2)\n",
    "\n",
    "plt.plot(c_logreg, acc_train_logreg, 'ro-') \n",
    "plt.plot(c_logreg, acc_test_logreg,'bo-') \n",
    "plt.plot(c_logreg, acc_train_logreg2, 'go-')\n",
    "plt.plot(c_logreg, acc_test_logreg2, 'yo-')\n",
    "plt.legend(['Training Accuracy(w/o std)', 'Test Accuracy(w/o std)', 'Training Accuracy(w/ std)', 'Test Accuarcy(w/ std)'], loc='upper right')\n"
   ]
  },
  {
   "cell_type": "code",
   "execution_count": 11,
   "metadata": {},
   "outputs": [],
   "source": [
    "# Logistic regression with L2 Ridge\n",
    "def logreg2_model(c , X_train, Y_train, X_test, Y_test, acc_train_logreg, acc_test_logreg, c_logreg):\n",
    "    # Create an object of logistic regression model using linear_model.\n",
    "    # Pass the value of C=c.\n",
    "    # You need not pass other parameters as penalty is 'L2' by default.\n",
    "    \n",
    "    logreg2 = linear_model.LogisticRegression(C=c, warm_start=True)\n",
    "    \n",
    "    # Fit the model on the training set.\n",
    "    logreg2.fit(X_train, Y_train)\n",
    "    \n",
    "    # Find the prediction on training set.\n",
    "    Yhat_train = logreg2.predict(X_train)\n",
    "    acc_train = np.mean(Yhat_train == Y_train)\n",
    "    acc_train_logreg.append(acc_train)\n",
    "    print(\"C = %f\" % c)\n",
    "    print(\"Accuracy on training data = %f\" % acc_train)\n",
    "    \n",
    "    # Find the prediction and accuracy on test set.\n",
    "    Yhat_test = logreg2.predict(X_test)\n",
    "    acc_test = np.mean(Yhat_test == Y_test)\n",
    "    acc_test_logreg.append(acc_test)\n",
    "    print(\"Accuracy on test data = %f\" % acc_test)\n",
    "    print()\n",
    "    \n",
    "    c_logreg.append(c)"
   ]
  },
  {
   "cell_type": "code",
   "execution_count": 12,
   "metadata": {},
   "outputs": [
    {
     "name": "stdout",
     "output_type": "stream",
     "text": [
      "X without weight:\n",
      "C = 0.000100\n",
      "Accuracy on training data = 0.544444\n",
      "Accuracy on test data = 0.516129\n",
      "\n",
      "C = 0.001000\n",
      "Accuracy on training data = 0.544444\n",
      "Accuracy on test data = 0.516129\n",
      "\n",
      "C = 0.010000\n",
      "Accuracy on training data = 0.588889\n",
      "Accuracy on test data = 0.548387\n",
      "\n",
      "C = 0.100000\n",
      "Accuracy on training data = 0.666667\n",
      "Accuracy on test data = 0.580645\n",
      "\n",
      "C = 1.000000\n",
      "Accuracy on training data = 0.622222\n",
      "Accuracy on test data = 0.580645\n",
      "\n",
      "C = 10.000000\n",
      "Accuracy on training data = 0.633333\n",
      "Accuracy on test data = 0.612903\n",
      "\n",
      "C = 100.000000\n",
      "Accuracy on training data = 0.644444\n",
      "Accuracy on test data = 0.612903\n",
      "\n",
      "X with weight:\n",
      "C = 0.000100\n",
      "Accuracy on training data = 0.544444\n",
      "Accuracy on test data = 0.516129\n",
      "\n",
      "C = 0.001000\n",
      "Accuracy on training data = 0.544444\n",
      "Accuracy on test data = 0.516129\n",
      "\n",
      "C = 0.010000\n",
      "Accuracy on training data = 0.588889\n",
      "Accuracy on test data = 0.548387\n",
      "\n",
      "C = 0.100000\n",
      "Accuracy on training data = 0.666667\n",
      "Accuracy on test data = 0.580645\n",
      "\n",
      "C = 1.000000\n",
      "Accuracy on training data = 0.622222\n",
      "Accuracy on test data = 0.580645\n",
      "\n",
      "C = 10.000000\n",
      "Accuracy on training data = 0.633333\n",
      "Accuracy on test data = 0.612903\n",
      "\n",
      "C = 100.000000\n",
      "Accuracy on training data = 0.644444\n",
      "Accuracy on test data = 0.612903\n",
      "\n"
     ]
    },
    {
     "data": {
      "text/plain": [
       "<matplotlib.legend.Legend at 0x2100954b390>"
      ]
     },
     "execution_count": 12,
     "metadata": {},
     "output_type": "execute_result"
    },
    {
     "data": {
      "image/png": "[encoded data removed]",
      "text/plain": [
       "<Figure size 432x288 with 1 Axes>"
      ]
     },
     "metadata": {},
     "output_type": "display_data"
    }
   ],
   "source": [
    "# Call Logistic Regression with L2 Lasso with different c param\n",
    "c = [0.0001, 0.001, 0.01, 0.1, 1, 10, 100]\n",
    "\n",
    "acc_train_logreg3 = []\n",
    "acc_test_logreg3 = []\n",
    "c_logreg3 = []\n",
    "\n",
    "# X without weight\n",
    "print('X without weight:')\n",
    "for i in range(len(c)):\n",
    "    logreg2_model(c[i], X_withoutSTD_train, Y_withoutSTD_train, X_withoutSTD_test, Y_withoutSTD_test, acc_train_logreg3, acc_test_logreg3, c_logreg3)\n",
    "\n",
    "acc_train_logreg4 = []\n",
    "acc_test_logreg4 = []\n",
    "c_logreg4 = []\n",
    "\n",
    "# X with weight\n",
    "print('X with weight:')\n",
    "for i in range(len(c)):\n",
    "    logreg2_model(c[i], X_withSTD_train, Y_withSTD_train, X_withSTD_test, Y_withSTD_test, acc_train_logreg4, acc_test_logreg4, c_logreg4)\n",
    "\n",
    "plt.plot(c_logreg, acc_train_logreg3, 'ro-') \n",
    "plt.plot(c_logreg, acc_test_logreg3,'bo-') \n",
    "plt.plot(c_logreg, acc_train_logreg4, 'go-')\n",
    "plt.plot(c_logreg, acc_test_logreg4, 'yo-')\n",
    "plt.legend(['Training Accuracy(w/o std)', 'Test Accuracy(w/o std)', 'Training Accuracy(w/ std)', 'Test Accuarcy(w/ std)'], loc='upper right')"
   ]
  },
  {
   "cell_type": "code",
   "execution_count": 13,
   "metadata": {},
   "outputs": [],
   "source": [
    "# Polynomial transform X's\n",
    "poly = PolynomialFeatures(degree=2)\n",
    "X_withoutSTD_transformed_train = poly.fit_transform(X_withoutSTD_train)\n",
    "X_withoutSTD_transformed_test = poly.fit_transform(X_withoutSTD_test)\n",
    "X_withSTD_transformed_train = poly.fit_transform(X_withSTD_train)\n",
    "X_withSTD_transformed_test = poly.fit_transform(X_withSTD_test)"
   ]
  },
  {
   "cell_type": "code",
   "execution_count": 14,
   "metadata": {},
   "outputs": [
    {
     "name": "stdout",
     "output_type": "stream",
     "text": [
      "X without weight:\n",
      "C = 0.000100\n",
      "Accuracy on training data = 0.455556\n",
      "Accuracy on test data = 0.483871\n",
      "\n",
      "C = 0.001000\n",
      "Accuracy on training data = 0.544444\n",
      "Accuracy on test data = 0.516129\n",
      "\n",
      "C = 0.010000\n",
      "Accuracy on training data = 0.544444\n",
      "Accuracy on test data = 0.516129\n",
      "\n",
      "C = 0.100000\n",
      "Accuracy on training data = 0.655556\n",
      "Accuracy on test data = 0.580645\n",
      "\n",
      "C = 1.000000\n",
      "Accuracy on training data = 0.644444\n",
      "Accuracy on test data = 0.612903\n",
      "\n",
      "C = 10.000000\n",
      "Accuracy on training data = 0.644444\n",
      "Accuracy on test data = 0.612903\n",
      "\n",
      "C = 100.000000\n",
      "Accuracy on training data = 0.644444\n"
     ]
    },
    {
     "name": "stderr",
     "output_type": "stream",
     "text": [
      "C:\\Users\\marci\\Anaconda3\\lib\\site-packages\\sklearn\\linear_model\\sag.py:326: ConvergenceWarning: The max_iter was reached which means the coef_ did not converge\n",
      "  \"the coef_ did not converge\", ConvergenceWarning)\n"
     ]
    },
    {
     "name": "stdout",
     "output_type": "stream",
     "text": [
      "Accuracy on test data = 0.612903\n",
      "\n",
      "X with weight:\n",
      "C = 0.000100\n",
      "Accuracy on training data = 0.544444\n",
      "Accuracy on test data = 0.516129\n",
      "\n",
      "C = 0.001000\n",
      "Accuracy on training data = 0.544444\n",
      "Accuracy on test data = 0.516129\n",
      "\n",
      "C = 0.010000\n",
      "Accuracy on training data = 0.544444\n",
      "Accuracy on test data = 0.516129\n",
      "\n",
      "C = 0.100000\n",
      "Accuracy on training data = 0.655556\n",
      "Accuracy on test data = 0.580645\n",
      "\n",
      "C = 1.000000\n",
      "Accuracy on training data = 0.644444\n",
      "Accuracy on test data = 0.645161\n",
      "\n",
      "C = 10.000000\n",
      "Accuracy on training data = 0.633333\n",
      "Accuracy on test data = 0.612903\n",
      "\n",
      "C = 100.000000\n",
      "Accuracy on training data = 0.644444\n",
      "Accuracy on test data = 0.645161\n",
      "\n"
     ]
    },
    {
     "data": {
      "text/plain": [
       "<matplotlib.legend.Legend at 0x210095e5eb8>"
      ]
     },
     "execution_count": 14,
     "metadata": {},
     "output_type": "execute_result"
    },
    {
     "data": {
      "image/png": "[encoded data removed]",
      "text/plain": [
       "<Figure size 432x288 with 1 Axes>"
      ]
     },
     "metadata": {},
     "output_type": "display_data"
    }
   ],
   "source": [
    "# Call logistic regression with polynomial transformed features\n",
    "acc_train_logreg = []\n",
    "acc_test_logreg = []\n",
    "c_logreg = []\n",
    "\n",
    "# X without weight\n",
    "print('X without weight:')\n",
    "for i in range(len(c)):\n",
    "    logreg_model(c[i], X_withoutSTD_transformed_train, Y_withoutSTD_train, X_withoutSTD_transformed_test, Y_withoutSTD_test, acc_train_logreg, acc_test_logreg, c_logreg)\n",
    "\n",
    "acc_train_logreg2 = []\n",
    "acc_test_logreg2 = []\n",
    "c_logreg2 = []\n",
    "\n",
    "# X with weight\n",
    "print('X with weight:')\n",
    "for i in range(len(c)):\n",
    "    logreg_model(c[i], X_withSTD_transformed_train, Y_withSTD_train, X_withSTD_transformed_test, Y_withSTD_test, acc_train_logreg2, acc_test_logreg2, c_logreg2)\n",
    "\n",
    "plt.plot(c_logreg, acc_train_logreg, 'ro-') \n",
    "plt.plot(c_logreg, acc_test_logreg,'bo-') \n",
    "plt.plot(c_logreg, acc_train_logreg2, 'go-')\n",
    "plt.plot(c_logreg, acc_test_logreg2, 'yo-')\n",
    "plt.legend(['Training Accuracy(w/o std)', 'Test Accuracy(w/o std)', 'Training Accuracy(w/ std)', 'Test Accuarcy(w/ std)'], loc='upper right')"
   ]
  },
  {
   "cell_type": "code",
   "execution_count": 15,
   "metadata": {},
   "outputs": [
    {
     "name": "stdout",
     "output_type": "stream",
     "text": [
      "X without weight:\n",
      "C = 0.000100\n",
      "Accuracy on training data = 0.644444\n",
      "Accuracy on test data = 0.548387\n",
      "\n",
      "C = 0.001000\n",
      "Accuracy on training data = 0.633333\n",
      "Accuracy on test data = 0.645161\n",
      "\n",
      "C = 0.010000\n",
      "Accuracy on training data = 0.700000\n",
      "Accuracy on test data = 0.548387\n",
      "\n",
      "C = 0.100000\n",
      "Accuracy on training data = 0.811111\n",
      "Accuracy on test data = 0.483871\n",
      "\n",
      "C = 1.000000\n",
      "Accuracy on training data = 0.900000\n",
      "Accuracy on test data = 0.516129\n",
      "\n",
      "C = 10.000000\n",
      "Accuracy on training data = 0.955556\n",
      "Accuracy on test data = 0.580645\n",
      "\n",
      "C = 100.000000\n",
      "Accuracy on training data = 1.000000\n",
      "Accuracy on test data = 0.580645\n",
      "\n",
      "X with weight:\n",
      "C = 0.000100\n",
      "Accuracy on training data = 0.644444\n",
      "Accuracy on test data = 0.548387\n",
      "\n",
      "C = 0.001000\n",
      "Accuracy on training data = 0.633333\n",
      "Accuracy on test data = 0.645161\n",
      "\n",
      "C = 0.010000\n",
      "Accuracy on training data = 0.700000\n",
      "Accuracy on test data = 0.548387\n",
      "\n",
      "C = 0.100000\n",
      "Accuracy on training data = 0.811111\n",
      "Accuracy on test data = 0.483871\n",
      "\n",
      "C = 1.000000\n",
      "Accuracy on training data = 0.900000\n",
      "Accuracy on test data = 0.516129\n",
      "\n",
      "C = 10.000000\n",
      "Accuracy on training data = 0.955556\n",
      "Accuracy on test data = 0.580645\n",
      "\n",
      "C = 100.000000\n",
      "Accuracy on training data = 1.000000\n",
      "Accuracy on test data = 0.580645\n",
      "\n"
     ]
    },
    {
     "data": {
      "text/plain": [
       "<matplotlib.legend.Legend at 0x2100966a588>"
      ]
     },
     "execution_count": 15,
     "metadata": {},
     "output_type": "execute_result"
    },
    {
     "data": {
      "image/png": "[encoded data removed]",
      "text/plain": [
       "<Figure size 432x288 with 1 Axes>"
      ]
     },
     "metadata": {},
     "output_type": "display_data"
    }
   ],
   "source": [
    "# Call Logistic Regression with L2 Lasso with different c param\n",
    "c = [0.0001, 0.001, 0.01, 0.1, 1, 10, 100]\n",
    "\n",
    "acc_train_logreg3 = []\n",
    "acc_test_logreg3 = []\n",
    "c_logreg3 = []\n",
    "\n",
    "# X without weight\n",
    "print('X without weight:')\n",
    "for i in range(len(c)):\n",
    "    logreg2_model(c[i], X_withoutSTD_transformed_train, Y_withoutSTD_train, X_withoutSTD_transformed_test, Y_withoutSTD_test, acc_train_logreg3, acc_test_logreg3, c_logreg3)\n",
    "\n",
    "acc_train_logreg4 = []\n",
    "acc_test_logreg4 = []\n",
    "c_logreg4 = []\n",
    "\n",
    "# X with weight\n",
    "print('X with weight:')\n",
    "for i in range(len(c)):\n",
    "    logreg2_model(c[i], X_withSTD_transformed_train, Y_withSTD_train, X_withSTD_transformed_test, Y_withSTD_test, acc_train_logreg4, acc_test_logreg4, c_logreg4)\n",
    "\n",
    "plt.plot(c_logreg, acc_train_logreg3, 'ro-') \n",
    "plt.plot(c_logreg, acc_test_logreg3,'bo-') \n",
    "plt.plot(c_logreg, acc_train_logreg4, 'go-')\n",
    "plt.plot(c_logreg, acc_test_logreg4, 'yo-')\n",
    "plt.legend(['Training Accuracy(w/o std)', 'Test Accuracy(w/o std)', 'Training Accuracy(w/ std)', 'Test Accuarcy(w/ std)'], loc='upper right')"
   ]
  },
  {
   "cell_type": "code",
   "execution_count": 16,
   "metadata": {},
   "outputs": [],
   "source": [
    "from sklearn import svm"
   ]
  },
  {
   "cell_type": "code",
   "execution_count": 17,
   "metadata": {},
   "outputs": [],
   "source": [
    "# SVM with RBF kernel\n",
    "def svm_linear(c, X_tr, Y_tr, X_te, Y_te, acc_train_svm, acc_test_svm, c_svm):\n",
    "    svc = svm.SVC(probability = False, kernel = 'rbf', C = c)\n",
    "    \n",
    "    svc.fit(X_tr, Y_tr)\n",
    "    \n",
    "    Yhat_svc_linear_train = svc.predict(X_tr)\n",
    "    acc_train = np.mean(Yhat_svc_linear_train == Y_tr)\n",
    "    acc_train_svm.append(acc_train)\n",
    "    print('C = %f' % c)\n",
    "    print('Accuracy = {0:f}'.format(acc_train))\n",
    "    \n",
    "    Yhat_svc_linear_test = svc.predict(X_te)\n",
    "    acc_test = np.mean(Yhat_svc_linear_test == Y_te)\n",
    "    acc_test_svm.append(acc_test)\n",
    "    print('Accuracy = {0:f}'.format(acc_test))\n",
    "    print()\n",
    "    \n",
    "    c_svm.append(c)"
   ]
  },
  {
   "cell_type": "code",
   "execution_count": 18,
   "metadata": {},
   "outputs": [
    {
     "name": "stdout",
     "output_type": "stream",
     "text": [
      "X without weight:\n",
      "C = 0.000100\n",
      "Accuracy = 0.544444\n",
      "Accuracy = 0.516129\n",
      "\n",
      "C = 0.001000\n",
      "Accuracy = 0.544444\n",
      "Accuracy = 0.516129\n",
      "\n",
      "C = 0.010000\n",
      "Accuracy = 0.544444\n",
      "Accuracy = 0.516129\n",
      "\n",
      "C = 0.100000\n",
      "Accuracy = 0.544444\n",
      "Accuracy = 0.516129\n",
      "\n",
      "C = 1.000000\n",
      "Accuracy = 0.877778\n",
      "Accuracy = 0.709677\n",
      "\n",
      "C = 10.000000\n",
      "Accuracy = 1.000000\n",
      "Accuracy = 0.677419\n",
      "\n",
      "C = 100.000000\n",
      "Accuracy = 1.000000\n",
      "Accuracy = 0.709677\n",
      "\n",
      "X with weight:\n",
      "C = 0.000100\n",
      "Accuracy = 0.544444\n",
      "Accuracy = 0.516129\n",
      "\n",
      "C = 0.001000\n",
      "Accuracy = 0.544444\n",
      "Accuracy = 0.516129\n",
      "\n",
      "C = 0.010000\n",
      "Accuracy = 0.544444\n",
      "Accuracy = 0.516129\n",
      "\n",
      "C = 0.100000\n",
      "Accuracy = 0.544444\n",
      "Accuracy = 0.516129\n",
      "\n",
      "C = 1.000000\n",
      "Accuracy = 0.877778\n",
      "Accuracy = 0.709677\n",
      "\n",
      "C = 10.000000\n",
      "Accuracy = 1.000000\n",
      "Accuracy = 0.677419\n",
      "\n",
      "C = 100.000000\n",
      "Accuracy = 1.000000\n",
      "Accuracy = 0.709677\n",
      "\n"
     ]
    },
    {
     "data": {
      "text/plain": [
       "<matplotlib.legend.Legend at 0x2100a8c3b00>"
      ]
     },
     "execution_count": 18,
     "metadata": {},
     "output_type": "execute_result"
    },
    {
     "data": {
      "image/png": "[encoded data removed]",
      "text/plain": [
       "<Figure size 432x288 with 1 Axes>"
      ]
     },
     "metadata": {},
     "output_type": "display_data"
    }
   ],
   "source": [
    "acc_train_svm = []\n",
    "acc_test_svm = []\n",
    "c_svm = []\n",
    "\n",
    "# X without weight\n",
    "print('X without weight:')\n",
    "for i in range(len(c)):\n",
    "    svm_linear(c[i], X_withoutSTD_train, Y_withoutSTD_train, X_withoutSTD_test, Y_withoutSTD_test, acc_train_svm, acc_test_svm, c_svm)\n",
    "\n",
    "acc_train_svm2 = []\n",
    "acc_test_svm2 = []\n",
    "c_svm2 = []\n",
    "\n",
    "# X with weight\n",
    "print('X with weight:')\n",
    "for i in range(len(c)):\n",
    "    svm_linear(c[i], X_withSTD_train, Y_withSTD_train, X_withSTD_test, Y_withSTD_test, acc_train_svm2, acc_test_svm2, c_svm2)\n",
    "    \n",
    "plt.plot(c_svm, acc_train_svm, 'ro-')\n",
    "plt.plot(c_svm, acc_test_svm, 'bo-')\n",
    "plt.plot(c_svm2, acc_train_svm2, 'go-')\n",
    "plt.plot(c_svm2, acc_test_svm2, 'yo-')\n",
    "plt.grid()\n",
    "plt.legend(['Training Accuracy(w/o std)', 'Test Accuracy(w/o std)', 'Training Accuracy(w/ std)', 'Test Accuarcy(w/ std)'], loc='upper right')"
   ]
  },
  {
   "cell_type": "code",
   "execution_count": 19,
   "metadata": {},
   "outputs": [],
   "source": [
    "# SVM with polynomial kernel\n",
    "def svm_polynomial(c, X_tr, X_te, Y_tr, Y_te, acc_train_svm_poly, acc_test_svm_poly, c_svm_poly):\n",
    "    \n",
    "    svc_polynomial = svm.SVC(probability = False, kernel = 'poly', C = c)\n",
    "    \n",
    "    svc_polynomial.fit(X_tr, Y_tr)\n",
    "    \n",
    "    Yhat_svc_polynomial_train = svc_polynomial.predict(X_tr)\n",
    "    acc_train = np.mean(Yhat_svc_polynomial_train == Y_tr)\n",
    "    acc_train_svm_poly.append(acc_train)\n",
    "    print('C = %f' % c)\n",
    "    print('Accuracy = {0:f}'.format(acc_train))\n",
    "\n",
    "    Yhat_svc_polynomial_test = svc_polynomial.predict(X_te)\n",
    "    acc_test = np.mean(Yhat_svc_polynomial_test == Y_te)\n",
    "    acc_test_svm_poly.append(acc_test)\n",
    "    print('Accuracy = {0:f}'.format(acc_test))\n",
    "    print()\n",
    "    \n",
    "    c_svm_poly.append(c)"
   ]
  },
  {
   "cell_type": "code",
   "execution_count": 21,
   "metadata": {},
   "outputs": [
    {
     "name": "stdout",
     "output_type": "stream",
     "text": [
      "X without weight:\n",
      "C = 0.000100\n",
      "Accuracy = 0.622222\n",
      "Accuracy = 0.580645\n",
      "\n",
      "C = 0.001000\n",
      "Accuracy = 0.655556\n",
      "Accuracy = 0.548387\n",
      "\n",
      "C = 0.010000\n",
      "Accuracy = 0.822222\n",
      "Accuracy = 0.548387\n",
      "\n",
      "C = 0.100000\n",
      "Accuracy = 0.888889\n",
      "Accuracy = 0.548387\n",
      "\n",
      "C = 1.000000\n",
      "Accuracy = 0.977778\n",
      "Accuracy = 0.516129\n",
      "\n",
      "C = 10.000000\n",
      "Accuracy = 1.000000\n",
      "Accuracy = 0.451613\n",
      "\n",
      "C = 100.000000\n",
      "Accuracy = 1.000000\n",
      "Accuracy = 0.451613\n",
      "\n",
      "X with weight:\n",
      "C = 0.000100\n",
      "Accuracy = 0.622222\n",
      "Accuracy = 0.580645\n",
      "\n",
      "C = 0.001000\n",
      "Accuracy = 0.655556\n",
      "Accuracy = 0.548387\n",
      "\n",
      "C = 0.010000\n",
      "Accuracy = 0.822222\n",
      "Accuracy = 0.548387\n",
      "\n",
      "C = 0.100000\n",
      "Accuracy = 0.888889\n",
      "Accuracy = 0.548387\n",
      "\n",
      "C = 1.000000\n",
      "Accuracy = 0.977778\n",
      "Accuracy = 0.516129\n",
      "\n",
      "C = 10.000000\n",
      "Accuracy = 1.000000\n",
      "Accuracy = 0.451613\n",
      "\n",
      "C = 100.000000\n",
      "Accuracy = 1.000000\n",
      "Accuracy = 0.451613\n",
      "\n"
     ]
    },
    {
     "data": {
      "text/plain": [
       "<matplotlib.legend.Legend at 0x2100ab6a6a0>"
      ]
     },
     "execution_count": 21,
     "metadata": {},
     "output_type": "execute_result"
    },
    {
     "data": {
      "image/png": "[encoded data removed]",
      "text/plain": [
       "<Figure size 432x288 with 1 Axes>"
      ]
     },
     "metadata": {},
     "output_type": "display_data"
    }
   ],
   "source": [
    "acc_train_svm_poly = []\n",
    "acc_test_svm_poly = []\n",
    "c_svm_poly = []\n",
    "\n",
    "# X without weight\n",
    "print('X without weight:')\n",
    "for i in range(len(c)):\n",
    "    svm_polynomial(c[i], X_withoutSTD_train, X_withoutSTD_test, Y_withoutSTD_train, Y_withoutSTD_test, acc_train_svm_poly, acc_test_svm_poly, c_svm_poly)\n",
    "    \n",
    "acc_train_svm_poly2 = []\n",
    "acc_test_svm_poly2 = []\n",
    "c_svm_poly2 = []\n",
    "\n",
    "# X with weight\n",
    "print('X with weight:')\n",
    "for i in range(len(c)):\n",
    "    svm_polynomial(c[i], X_withSTD_train, X_withSTD_test, Y_withSTD_train, Y_withSTD_test, acc_train_svm_poly2, acc_test_svm_poly2, c_svm_poly2)\n",
    "    \n",
    "plt.plot(c_svm_poly, acc_train_svm_poly, 'ro-') \n",
    "plt.plot(c_svm_poly, acc_test_svm_poly,'bo-') \n",
    "plt.plot(c_svm_poly, acc_train_svm_poly2, 'go-') \n",
    "plt.plot(c_svm_poly, acc_test_svm_poly2,'yo-') \n",
    "plt.grid()\n",
    "plt.legend(['Training Accuracy', 'Test Accuracy'], loc='upper right')"
   ]
  },
  {
   "cell_type": "code",
   "execution_count": null,
   "metadata": {},
   "outputs": [],
   "source": []
  }
 ],
 "metadata": {
  "kernelspec": {
   "display_name": "Python 3",
   "language": "python",
   "name": "python3"
  },
  "language_info": {
   "codemirror_mode": {
    "name": "ipython",
    "version": 3
   },
   "file_extension": ".py",
   "mimetype": "text/x-python",
   "name": "python",
   "nbconvert_exporter": "python",
   "pygments_lexer": "ipython3",
   "version": "3.6.5"
  }
 },
 "nbformat": 4,
 "nbformat_minor": 2
}
